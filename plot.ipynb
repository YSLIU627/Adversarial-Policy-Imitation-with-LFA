{
 "cells": [
  {
   "cell_type": "markdown",
   "metadata": {},
   "source": [
    "# Experiment Result for Learning from Demonstration: Provably Efficient Adversarial Policy Imitation with Linear Function Approximation"
   ]
  },
  {
   "cell_type": "code",
   "execution_count": 11,
   "metadata": {},
   "outputs": [],
   "source": [
    "import pandas as pd\n",
    "import matplotlib.pyplot as plt\n",
    "import seaborn as sns\n",
    "import pickle\n",
    "import numpy as np\n",
    "import csv\n",
    "import tensorboard\n",
    "from scipy.ndimage.filters import gaussian_filter1d\n",
    "from matplotlib.ticker import MaxNLocator\n",
    "\n",
    "\n",
    "\n",
    "\n",
    "\n",
    "def AVERAGE(data,factor = 1.0):\n",
    "    return(gaussian_filter1d(np.array(data), sigma=factor))\n",
    "def sd_format_plot(result):\n",
    "    mean , sd = np.mean(result,axis= 0), np.std(result,axis= 0)\n",
    "    x = range(1,len(mean)+1)\n",
    "    print(x)\n",
    "    plt.plot(x,mean) \n",
    "    plt.fill_between(x, mean - sd, mean + sd, alpha=0.25)\n"
   ]
  },
  {
   "cell_type": "code",
   "execution_count": 13,
   "metadata": {},
   "outputs": [
    {
     "name": "stdout",
     "output_type": "stream",
     "text": [
      "expert performance 5.951379739028557\n",
      "random performance 1.091614581224842\n",
      "0 -th return: 1.091614581224842\n",
      "1 -th return: 1.104104310840439\n",
      "2 -th return: 1.7340875121090962\n",
      "3 -th return: 3.185830466883625\n",
      "4 -th return: 4.450616949447475\n",
      "5 -th return: 5.014733658008033\n",
      "6 -th return: 5.24625971120764\n",
      "7 -th return: 5.351921687343107\n",
      "8 -th return: 5.405296954330322\n",
      "9 -th return: 5.434301644458682\n",
      "10 -th return: 5.450882523804912\n",
      "11 -th return: 5.460700272908853\n",
      "12 -th return: 5.466653072306949\n",
      "13 -th return: 5.470313888850769\n",
      "14 -th return: 5.472575486655839\n",
      "15 -th return: 5.473962713715964\n",
      "16 -th return: 5.474793020955615\n",
      "17 -th return: 5.475262989299209\n",
      "18 -th return: 5.475496796573942\n",
      "19 -th return: 5.475574235821119\n",
      "BC on Expert Demonstration\n",
      "BC Performance:  5.1717091688650925\n",
      "BC on Expert Demonstration + Additional Dataset\n",
      "BC Performance:  1.1320718330078894\n",
      "expert performance 5.951379739028557\n",
      "random performance 1.091614581224842\n",
      "0 -th return: 1.091614581224842\n",
      "1 -th return: 1.1033927833058588\n",
      "2 -th return: 1.5848942161383337\n",
      "3 -th return: 2.961270515954278\n",
      "4 -th return: 4.378080661028328\n",
      "5 -th return: 5.118362522646196\n",
      "6 -th return: 5.478466004397106\n",
      "7 -th return: 5.670452207507448\n",
      "8 -th return: 5.779400371003949\n",
      "9 -th return: 5.8436466697856115\n",
      "10 -th return: 5.882606578221494\n",
      "11 -th return: 5.906782252621774\n",
      "12 -th return: 5.922087485877113\n",
      "13 -th return: 5.931951609174673\n",
      "14 -th return: 5.938412121771412\n",
      "15 -th return: 5.9427056353753995\n",
      "16 -th return: 5.945597188094278\n",
      "17 -th return: 5.947568379655811\n",
      "18 -th return: 5.948927237049898\n",
      "19 -th return: 5.949873661705451\n",
      "BC on Expert Demonstration\n",
      "BC Performance:  4.981561148441892\n",
      "BC on Expert Demonstration + Additional Dataset\n",
      "BC Performance:  1.133611076898553\n",
      "expert performance 5.951379739028557\n",
      "random performance 1.091614581224842\n",
      "0 -th return: 1.091614581224842\n",
      "1 -th return: 1.1037816272213425\n",
      "2 -th return: 1.9213046908871747\n",
      "3 -th return: 3.599613713285834\n",
      "4 -th return: 4.649380794990738\n",
      "5 -th return: 5.044308328676938\n",
      "6 -th return: 5.2184511126153925\n",
      "7 -th return: 5.306569424857909\n",
      "8 -th return: 5.354693845426794\n",
      "9 -th return: 5.382306430744833\n",
      "10 -th return: 5.3987347902137275\n",
      "11 -th return: 5.408792821712283\n",
      "12 -th return: 5.415097536310051\n",
      "13 -th return: 5.419128912856262\n",
      "14 -th return: 5.421750896612561\n",
      "15 -th return: 5.423481356385951\n",
      "16 -th return: 5.4246378385996\n",
      "17 -th return: 5.425418951223014\n",
      "18 -th return: 5.425951110363716\n",
      "19 -th return: 5.426316054435875\n",
      "BC on Expert Demonstration\n",
      "BC Performance:  4.991267974841891\n",
      "BC on Expert Demonstration + Additional Dataset\n",
      "BC Performance:  1.1328846077617838\n",
      "expert performance 5.951379739028557\n",
      "random performance 1.091614581224842\n",
      "0 -th return: 1.091614581224842\n",
      "1 -th return: 1.1041362282541554\n",
      "2 -th return: 1.9596989182266802\n",
      "3 -th return: 3.7810231010403883\n",
      "4 -th return: 4.798498299068272\n",
      "5 -th return: 5.135191803027782\n",
      "6 -th return: 5.274545632696574\n"
     ]
    }
   ],
   "source": [
    "from train import train_loop\n",
    "num = 5\n",
    "full_result = train_loop(num)"
   ]
  },
  {
   "cell_type": "code",
   "execution_count": 9,
   "metadata": {},
   "outputs": [
    {
     "name": "stdout",
     "output_type": "stream",
     "text": [
      "5\n",
      "['log', 'exp_perform', 'rand_perform', 'BC_exp', 'BC_rand']\n",
      "range(1, 21)\n",
      "range(1, 21)\n",
      "range(1, 21)\n",
      "range(1, 21)\n"
     ]
    },
    {
     "data": {
      "image/png": "[encoded data removed]",
      "text/plain": [
       "<Figure size 432x288 with 1 Axes>"
      ]
     },
     "metadata": {},
     "output_type": "display_data"
    }
   ],
   "source": [
    "\n",
    "plt.figure(figsize=(6, 4))\n",
    "sns.set(style=\"darkgrid\")\n",
    "plt.gca().xaxis.set_major_locator(MaxNLocator(integer=True))\n",
    "\n",
    "plt.gca().yaxis.set_major_locator(MaxNLocator(integer=True))\n",
    "\n",
    "legs = []\n",
    "legs = [\"PGAPI\",\"expert\",\"BC-mixture\",\"BC-expert\"]\n",
    "print(len(full_result))\n",
    "\n",
    "keys = list(full_result.keys())\n",
    "print(keys)\n",
    "assert \"log\" == keys[0]\n",
    "\n",
    "for i,key in enumerate(keys):\n",
    "    if i ==2 :\n",
    "        continue\n",
    "    result = full_result[key]\n",
    "    result = AVERAGE(result)\n",
    "    if key == \"log\":\n",
    "        keep = result\n",
    "    else:\n",
    "        result = result.reshape(-1,1)\n",
    "        result = result* np.ones_like(keep)\n",
    "    sd_format_plot(result)\n",
    "    #legs.append(key)\n",
    "plt.legend(legs,ncol = len(legs),loc='upper left', bbox_to_anchor=(-0.1, 1.15))\n",
    "plt.xlabel('Iteration')\n",
    "plt.ylabel('Average Return')\n",
    "        \n",
    "\n",
    "plt.grid('w')\n",
    "plt.show()\n",
    "#plt.savefig('result_GAIL.pdf',format='pdf', bbox_inches='tight', dpi=300)\n"
   ]
  }
 ],
 "metadata": {
  "interpreter": {
   "hash": "e908a24e6816879c0e867e22f5e9435c234ca4fef12ed7693c0b38e45327cda7"
  },
  "kernelspec": {
   "display_name": "Python 3.8.5 ('Pytorch_Proj')",
   "language": "python",
   "name": "python3"
  },
  "language_info": {
   "codemirror_mode": {
    "name": "ipython",
    "version": 3
   },
   "file_extension": ".py",
   "mimetype": "text/x-python",
   "name": "python",
   "nbconvert_exporter": "python",
   "pygments_lexer": "ipython3",
   "version": "3.8.5"
  },
  "orig_nbformat": 4
 },
 "nbformat": 4,
 "nbformat_minor": 2
}
